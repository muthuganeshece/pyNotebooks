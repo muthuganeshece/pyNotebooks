{
 "cells": [
  {
   "cell_type": "code",
   "execution_count": 33,
   "id": "9cca8108",
   "metadata": {},
   "outputs": [],
   "source": [
    "import os\n",
    "import sys"
   ]
  },
  {
   "cell_type": "code",
   "execution_count": 34,
   "id": "5e8309d2",
   "metadata": {
    "scrolled": true
   },
   "outputs": [
    {
     "ename": "NotADirectoryError",
     "evalue": "[WinError 267] The directory name is invalid: 'C:\\\\Users\\\\ADMIN\\\\anaconda3\\\\Lib\\\\site-packages\\\\ipykernel_launcher.py'",
     "output_type": "error",
     "traceback": [
      "\u001b[1;31m---------------------------------------------------------------------------\u001b[0m",
      "\u001b[1;31mNotADirectoryError\u001b[0m                        Traceback (most recent call last)",
      "Cell \u001b[1;32mIn[34], line 2\u001b[0m\n\u001b[0;32m      1\u001b[0m path \u001b[38;5;241m=\u001b[39m sys\u001b[38;5;241m.\u001b[39margv[\u001b[38;5;241m0\u001b[39m]\n\u001b[1;32m----> 2\u001b[0m directories \u001b[38;5;241m=\u001b[39m os\u001b[38;5;241m.\u001b[39mlistdir(path)\n\u001b[0;32m      3\u001b[0m directories \u001b[38;5;241m=\u001b[39m [\u001b[38;5;124m'\u001b[39m\u001b[38;5;124mC:\u001b[39m\u001b[38;5;130;01m\\\\\u001b[39;00m\u001b[38;5;124mUsers\u001b[39m\u001b[38;5;130;01m\\\\\u001b[39;00m\u001b[38;5;124mADMIN\u001b[39m\u001b[38;5;130;01m\\\\\u001b[39;00m\u001b[38;5;124manaconda3\u001b[39m\u001b[38;5;124m'\u001b[39m \u001b[38;5;241m+\u001b[39m \u001b[38;5;124m'\u001b[39m\u001b[38;5;130;01m\\\\\u001b[39;00m\u001b[38;5;124m'\u001b[39m \u001b[38;5;241m+\u001b[39m dirs \u001b[38;5;28;01mfor\u001b[39;00m dirs \u001b[38;5;129;01min\u001b[39;00m directories]\n",
      "\u001b[1;31mNotADirectoryError\u001b[0m: [WinError 267] The directory name is invalid: 'C:\\\\Users\\\\ADMIN\\\\anaconda3\\\\Lib\\\\site-packages\\\\ipykernel_launcher.py'"
     ]
    }
   ],
   "source": [
    "path = sys.argv[1]\n",
    "print(len(sys.argv), sys.argv[0])\n",
    "if os.path.isdir(path) == False:\n",
    "    path = sys.argv[2]\n",
    "directories = os.listdir(path)\n",
    "directories = ['C:\\\\Users\\\\ADMIN\\\\anaconda3' + '\\\\' + dirs for dirs in directories]"
   ]
  },
  {
   "cell_type": "code",
   "execution_count": 32,
   "id": "837e0262",
   "metadata": {},
   "outputs": [
    {
     "name": "stdout",
     "output_type": "stream",
     "text": [
      "C:\\Users\\ADMIN\\anaconda3\\.nonadmin\n",
      "C:\\Users\\ADMIN\\anaconda3\\api-ms-win-core-console-l1-1-0.dll\n",
      "C:\\Users\\ADMIN\\anaconda3\\api-ms-win-core-datetime-l1-1-0.dll\n",
      "C:\\Users\\ADMIN\\anaconda3\\api-ms-win-core-debug-l1-1-0.dll\n",
      "C:\\Users\\ADMIN\\anaconda3\\api-ms-win-core-errorhandling-l1-1-0.dll\n",
      "C:\\Users\\ADMIN\\anaconda3\\api-ms-win-core-file-l1-1-0.dll\n",
      "C:\\Users\\ADMIN\\anaconda3\\api-ms-win-core-file-l1-2-0.dll\n",
      "C:\\Users\\ADMIN\\anaconda3\\api-ms-win-core-file-l2-1-0.dll\n",
      "C:\\Users\\ADMIN\\anaconda3\\api-ms-win-core-handle-l1-1-0.dll\n",
      "C:\\Users\\ADMIN\\anaconda3\\api-ms-win-core-heap-l1-1-0.dll\n",
      "C:\\Users\\ADMIN\\anaconda3\\api-ms-win-core-interlocked-l1-1-0.dll\n",
      "C:\\Users\\ADMIN\\anaconda3\\api-ms-win-core-libraryloader-l1-1-0.dll\n",
      "C:\\Users\\ADMIN\\anaconda3\\api-ms-win-core-localization-l1-2-0.dll\n",
      "C:\\Users\\ADMIN\\anaconda3\\api-ms-win-core-memory-l1-1-0.dll\n",
      "C:\\Users\\ADMIN\\anaconda3\\api-ms-win-core-namedpipe-l1-1-0.dll\n",
      "C:\\Users\\ADMIN\\anaconda3\\api-ms-win-core-processenvironment-l1-1-0.dll\n",
      "C:\\Users\\ADMIN\\anaconda3\\api-ms-win-core-processthreads-l1-1-0.dll\n",
      "C:\\Users\\ADMIN\\anaconda3\\api-ms-win-core-processthreads-l1-1-1.dll\n",
      "C:\\Users\\ADMIN\\anaconda3\\api-ms-win-core-profile-l1-1-0.dll\n",
      "C:\\Users\\ADMIN\\anaconda3\\api-ms-win-core-rtlsupport-l1-1-0.dll\n",
      "C:\\Users\\ADMIN\\anaconda3\\api-ms-win-core-string-l1-1-0.dll\n",
      "C:\\Users\\ADMIN\\anaconda3\\api-ms-win-core-synch-l1-1-0.dll\n",
      "C:\\Users\\ADMIN\\anaconda3\\api-ms-win-core-synch-l1-2-0.dll\n",
      "C:\\Users\\ADMIN\\anaconda3\\api-ms-win-core-sysinfo-l1-1-0.dll\n",
      "C:\\Users\\ADMIN\\anaconda3\\api-ms-win-core-timezone-l1-1-0.dll\n",
      "C:\\Users\\ADMIN\\anaconda3\\api-ms-win-core-util-l1-1-0.dll\n",
      "C:\\Users\\ADMIN\\anaconda3\\api-ms-win-crt-conio-l1-1-0.dll\n",
      "C:\\Users\\ADMIN\\anaconda3\\api-ms-win-crt-convert-l1-1-0.dll\n",
      "C:\\Users\\ADMIN\\anaconda3\\api-ms-win-crt-environment-l1-1-0.dll\n",
      "C:\\Users\\ADMIN\\anaconda3\\api-ms-win-crt-filesystem-l1-1-0.dll\n",
      "C:\\Users\\ADMIN\\anaconda3\\api-ms-win-crt-heap-l1-1-0.dll\n",
      "C:\\Users\\ADMIN\\anaconda3\\api-ms-win-crt-locale-l1-1-0.dll\n",
      "C:\\Users\\ADMIN\\anaconda3\\api-ms-win-crt-math-l1-1-0.dll\n",
      "C:\\Users\\ADMIN\\anaconda3\\api-ms-win-crt-multibyte-l1-1-0.dll\n",
      "C:\\Users\\ADMIN\\anaconda3\\api-ms-win-crt-private-l1-1-0.dll\n",
      "C:\\Users\\ADMIN\\anaconda3\\api-ms-win-crt-process-l1-1-0.dll\n",
      "C:\\Users\\ADMIN\\anaconda3\\api-ms-win-crt-runtime-l1-1-0.dll\n",
      "C:\\Users\\ADMIN\\anaconda3\\api-ms-win-crt-stdio-l1-1-0.dll\n",
      "C:\\Users\\ADMIN\\anaconda3\\api-ms-win-crt-string-l1-1-0.dll\n",
      "C:\\Users\\ADMIN\\anaconda3\\api-ms-win-crt-time-l1-1-0.dll\n",
      "C:\\Users\\ADMIN\\anaconda3\\api-ms-win-crt-utility-l1-1-0.dll\n",
      "C:\\Users\\ADMIN\\anaconda3\\concrt140.dll\n",
      "C:\\Users\\ADMIN\\anaconda3\\conda-meta\n",
      "C:\\Users\\ADMIN\\anaconda3\\condabin\n",
      "C:\\Users\\ADMIN\\anaconda3\\cwp.py\n",
      "C:\\Users\\ADMIN\\anaconda3\\DLLs\n",
      "C:\\Users\\ADMIN\\anaconda3\\envs\n",
      "C:\\Users\\ADMIN\\anaconda3\\etc\n",
      "C:\\Users\\ADMIN\\anaconda3\\include\n",
      "C:\\Users\\ADMIN\\anaconda3\\Lib\n",
      "C:\\Users\\ADMIN\\anaconda3\\Library\n",
      "C:\\Users\\ADMIN\\anaconda3\\libs\n",
      "C:\\Users\\ADMIN\\anaconda3\\LICENSE_PYTHON.txt\n",
      "C:\\Users\\ADMIN\\anaconda3\\Menu\n",
      "C:\\Users\\ADMIN\\anaconda3\\msvcp140.dll\n",
      "C:\\Users\\ADMIN\\anaconda3\\msvcp140_1.dll\n",
      "C:\\Users\\ADMIN\\anaconda3\\msvcp140_2.dll\n",
      "C:\\Users\\ADMIN\\anaconda3\\msvcp140_codecvt_ids.dll\n",
      "C:\\Users\\ADMIN\\anaconda3\\pkgs\n",
      "C:\\Users\\ADMIN\\anaconda3\\pre_uninstall.bat\n",
      "C:\\Users\\ADMIN\\anaconda3\\pyodbc.pyi\n",
      "C:\\Users\\ADMIN\\anaconda3\\python.exe\n",
      "C:\\Users\\ADMIN\\anaconda3\\python.pdb\n",
      "C:\\Users\\ADMIN\\anaconda3\\python3.dll\n",
      "C:\\Users\\ADMIN\\anaconda3\\python311.dll\n",
      "C:\\Users\\ADMIN\\anaconda3\\python311.pdb\n",
      "C:\\Users\\ADMIN\\anaconda3\\pythonw.exe\n",
      "C:\\Users\\ADMIN\\anaconda3\\pythonw.pdb\n",
      "C:\\Users\\ADMIN\\anaconda3\\Scripts\n",
      "C:\\Users\\ADMIN\\anaconda3\\share\n",
      "C:\\Users\\ADMIN\\anaconda3\\shell\n",
      "C:\\Users\\ADMIN\\anaconda3\\Tools\n",
      "C:\\Users\\ADMIN\\anaconda3\\ucrtbase.dll\n",
      "C:\\Users\\ADMIN\\anaconda3\\Uninstall-Anaconda3.exe\n",
      "C:\\Users\\ADMIN\\anaconda3\\vccorlib140.dll\n",
      "C:\\Users\\ADMIN\\anaconda3\\vcomp140.dll\n",
      "C:\\Users\\ADMIN\\anaconda3\\vcruntime140.dll\n",
      "C:\\Users\\ADMIN\\anaconda3\\vcruntime140_1.dll\n",
      "C:\\Users\\ADMIN\\anaconda3\\xlwings32-0.29.1.dll\n",
      "C:\\Users\\ADMIN\\anaconda3\\xlwings64-0.29.1.dll\n",
      "C:\\Users\\ADMIN\\anaconda3\\zlib.dll\n",
      "C:\\Users\\ADMIN\\anaconda3\\_conda.exe\n"
     ]
    }
   ],
   "source": [
    "for i in range (len(directories)):\n",
    "    print(directories[i])"
   ]
  },
  {
   "cell_type": "code",
   "execution_count": null,
   "id": "f7932e74",
   "metadata": {},
   "outputs": [],
   "source": []
  }
 ],
 "metadata": {
  "kernelspec": {
   "display_name": "Python 3 (ipykernel)",
   "language": "python",
   "name": "python3"
  },
  "language_info": {
   "codemirror_mode": {
    "name": "ipython",
    "version": 3
   },
   "file_extension": ".py",
   "mimetype": "text/x-python",
   "name": "python",
   "nbconvert_exporter": "python",
   "pygments_lexer": "ipython3",
   "version": "3.11.5"
  }
 },
 "nbformat": 4,
 "nbformat_minor": 5
}
