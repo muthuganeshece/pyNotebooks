{
 "cells": [
  {
   "cell_type": "code",
   "execution_count": 1,
   "id": "df9d192b",
   "metadata": {},
   "outputs": [],
   "source": [
    "import numpy as np\n",
    "import pandas as pd\n",
    "import matplotlib.pyplot as plt\n",
    "import seaborn as sns"
   ]
  },
  {
   "cell_type": "code",
   "execution_count": 3,
   "id": "b81c16f2",
   "metadata": {},
   "outputs": [],
   "source": [
    "full_data = pd.read_csv('F:/Muthu_2023/Personal/NextStep/MLProjects/Analytics/Datasets/esas_mehsullar/esas_mehsullar_cleaned.csv')"
   ]
  },
  {
   "cell_type": "code",
   "execution_count": 5,
   "id": "84d98048",
   "metadata": {},
   "outputs": [
    {
     "data": {
      "text/html": [
       "<div>\n",
       "<style scoped>\n",
       "    .dataframe tbody tr th:only-of-type {\n",
       "        vertical-align: middle;\n",
       "    }\n",
       "\n",
       "    .dataframe tbody tr th {\n",
       "        vertical-align: top;\n",
       "    }\n",
       "\n",
       "    .dataframe thead th {\n",
       "        text-align: right;\n",
       "    }\n",
       "</style>\n",
       "<table border=\"1\" class=\"dataframe\">\n",
       "  <thead>\n",
       "    <tr style=\"text-align: right;\">\n",
       "      <th></th>\n",
       "      <th>product_code</th>\n",
       "      <th>product_name</th>\n",
       "      <th>product_category</th>\n",
       "    </tr>\n",
       "  </thead>\n",
       "  <tbody>\n",
       "    <tr>\n",
       "      <th>0</th>\n",
       "      <td>3334</td>\n",
       "      <td>GONDOL SIMPLE WASHBASIN AND FRIDGE CASE G61*50</td>\n",
       "      <td>Food products</td>\n",
       "    </tr>\n",
       "    <tr>\n",
       "      <th>1</th>\n",
       "      <td>4674</td>\n",
       "      <td>WOODEN KNIFE 3232</td>\n",
       "      <td>Dishes</td>\n",
       "    </tr>\n",
       "    <tr>\n",
       "      <th>2</th>\n",
       "      <td>8388</td>\n",
       "      <td>VITA 1LT PINEAPPLE SYRUP</td>\n",
       "      <td>Fruits</td>\n",
       "    </tr>\n",
       "    <tr>\n",
       "      <th>3</th>\n",
       "      <td>6017</td>\n",
       "      <td>1LT YELLOW PLUM COMPOTE FROM GILAN BAG</td>\n",
       "      <td>Compotes</td>\n",
       "    </tr>\n",
       "    <tr>\n",
       "      <th>4</th>\n",
       "      <td>8297</td>\n",
       "      <td>OSRAM SUPERSTAR LAMP 64544A ECO 57W E27</td>\n",
       "      <td>Food products</td>\n",
       "    </tr>\n",
       "  </tbody>\n",
       "</table>\n",
       "</div>"
      ],
      "text/plain": [
       "   product_code                                    product_name  \\\n",
       "0          3334  GONDOL SIMPLE WASHBASIN AND FRIDGE CASE G61*50   \n",
       "1          4674                               WOODEN KNIFE 3232   \n",
       "2          8388                        VITA 1LT PINEAPPLE SYRUP   \n",
       "3          6017          1LT YELLOW PLUM COMPOTE FROM GILAN BAG   \n",
       "4          8297         OSRAM SUPERSTAR LAMP 64544A ECO 57W E27   \n",
       "\n",
       "  product_category  \n",
       "0    Food products  \n",
       "1           Dishes  \n",
       "2           Fruits  \n",
       "3         Compotes  \n",
       "4    Food products  "
      ]
     },
     "execution_count": 5,
     "metadata": {},
     "output_type": "execute_result"
    }
   ],
   "source": [
    "# Create Product Table\n",
    "product_table = full_data[['product_code', 'product_name', 'product_category']]\n",
    "product_table.drop_duplicates()"
   ]
  },
  {
   "cell_type": "code",
   "execution_count": 7,
   "id": "651ca956",
   "metadata": {},
   "outputs": [
    {
     "data": {
      "text/html": [
       "<div>\n",
       "<style scoped>\n",
       "    .dataframe tbody tr th:only-of-type {\n",
       "        vertical-align: middle;\n",
       "    }\n",
       "\n",
       "    .dataframe tbody tr th {\n",
       "        vertical-align: top;\n",
       "    }\n",
       "\n",
       "    .dataframe thead th {\n",
       "        text-align: right;\n",
       "    }\n",
       "</style>\n",
       "<table border=\"1\" class=\"dataframe\">\n",
       "  <thead>\n",
       "    <tr style=\"text-align: right;\">\n",
       "      <th></th>\n",
       "      <th>Sale_code</th>\n",
       "      <th>sale_date</th>\n",
       "      <th>sale_time</th>\n",
       "      <th>product_code</th>\n",
       "    </tr>\n",
       "  </thead>\n",
       "  <tbody>\n",
       "    <tr>\n",
       "      <th>9</th>\n",
       "      <td>583812</td>\n",
       "      <td>2019-04-29</td>\n",
       "      <td>03:20:00</td>\n",
       "      <td>3545</td>\n",
       "    </tr>\n",
       "    <tr>\n",
       "      <th>20</th>\n",
       "      <td>290384</td>\n",
       "      <td>2019-04-04</td>\n",
       "      <td>15:55:00</td>\n",
       "      <td>2462</td>\n",
       "    </tr>\n",
       "    <tr>\n",
       "      <th>24</th>\n",
       "      <td>290384</td>\n",
       "      <td>2019-04-04</td>\n",
       "      <td>15:55:00</td>\n",
       "      <td>4934</td>\n",
       "    </tr>\n",
       "    <tr>\n",
       "      <th>25</th>\n",
       "      <td>659075</td>\n",
       "      <td>2019-01-07</td>\n",
       "      <td>09:05:00</td>\n",
       "      <td>3735</td>\n",
       "    </tr>\n",
       "    <tr>\n",
       "      <th>27</th>\n",
       "      <td>659075</td>\n",
       "      <td>2019-01-07</td>\n",
       "      <td>09:05:00</td>\n",
       "      <td>3693</td>\n",
       "    </tr>\n",
       "  </tbody>\n",
       "</table>\n",
       "</div>"
      ],
      "text/plain": [
       "    Sale_code   sale_date sale_time  product_code\n",
       "9      583812  2019-04-29  03:20:00          3545\n",
       "20     290384  2019-04-04  15:55:00          2462\n",
       "24     290384  2019-04-04  15:55:00          4934\n",
       "25     659075  2019-01-07  09:05:00          3735\n",
       "27     659075  2019-01-07  09:05:00          3693"
      ]
     },
     "execution_count": 7,
     "metadata": {},
     "output_type": "execute_result"
    }
   ],
   "source": [
    "# Simplified Table and Extract only Business Category\n",
    "df = full_data[full_data['product_category'] == 'Business'][['Sale_code','sale_date', 'sale_time','product_code']]\n",
    "df.head()"
   ]
  },
  {
   "cell_type": "code",
   "execution_count": 12,
   "id": "d05ada10",
   "metadata": {},
   "outputs": [
    {
     "data": {
      "text/plain": [
       "438826"
      ]
     },
     "execution_count": 12,
     "metadata": {},
     "output_type": "execute_result"
    }
   ],
   "source": []
  },
  {
   "cell_type": "markdown",
   "id": "39d872ee",
   "metadata": {},
   "source": [
    "Sale_code\tproduct_code\tproduct_name\tproduct_category\tproduct_price\tsale_date\tdiscount_company\tbonus_card\tstore_name\tstore_lat\tstore_long"
   ]
  },
  {
   "cell_type": "code",
   "execution_count": 14,
   "id": "6d982fa9",
   "metadata": {},
   "outputs": [],
   "source": [
    "# One Hot Encoding\n",
    "from sklearn.preprocessing import OneHotEncoder"
   ]
  },
  {
   "cell_type": "code",
   "execution_count": 15,
   "id": "27ab4609",
   "metadata": {},
   "outputs": [],
   "source": [
    "encoder = OneHotEncoder()"
   ]
  },
  {
   "cell_type": "code",
   "execution_count": 17,
   "id": "d6aca62b",
   "metadata": {},
   "outputs": [],
   "source": [
    "temp = pd.get_dummies(df['product_code'])\n",
    "tem"
   ]
  },
  {
   "cell_type": "code",
   "execution_count": 19,
   "id": "395e465b",
   "metadata": {},
   "outputs": [
    {
     "name": "stdout",
     "output_type": "stream",
     "text": [
      "<class 'pandas.core.frame.DataFrame'>\n",
      "Index: 100778 entries, 9 to 438824\n",
      "Columns: 2697 entries, 2000 to 9998\n",
      "dtypes: bool(2697)\n",
      "memory usage: 260.0 MB\n"
     ]
    }
   ],
   "source": [
    "temp.info()"
   ]
  },
  {
   "cell_type": "code",
   "execution_count": null,
   "id": "cb7cbe1b",
   "metadata": {},
   "outputs": [],
   "source": []
  }
 ],
 "metadata": {
  "kernelspec": {
   "display_name": "Python 3 (ipykernel)",
   "language": "python",
   "name": "python3"
  },
  "language_info": {
   "codemirror_mode": {
    "name": "ipython",
    "version": 3
   },
   "file_extension": ".py",
   "mimetype": "text/x-python",
   "name": "python",
   "nbconvert_exporter": "python",
   "pygments_lexer": "ipython3",
   "version": "3.11.5"
  }
 },
 "nbformat": 4,
 "nbformat_minor": 5
}
